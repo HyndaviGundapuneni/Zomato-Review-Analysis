{
 "cells": [
  {
   "cell_type": "markdown",
   "id": "d94fd52e",
   "metadata": {},
   "source": [
    "INTRODUCTION                                                                                                                    \n",
    "I am Hyndavi Gundapuneni, I got datda set about rewies of ZOMATO Restraunt. In any business reviews are very importanat, they show                                                                                                                           1) Better Understand your Customers & Improve Customer Service.                                                                  2) Credibility & Social Proof.                                                                                                    3) Fight with experience to save margins. 4) Allow Consumers to Have a Voice and Create Customer Loyalty. 5) Improve Rankings. 6) Consumers are Doing your Marketing for You. And many more... . So analysing this dataset helps the company in many way. Now coming to ZOMATO: Zomato is an Indian multinational restaurant aggregator and food delivery company founded by Deepinder Goyal and Pankaj Chaddah in 2008. Zomato provides information, menus and user-reviews of restaurants as well as food delivery options from partner restaurants in select cities. As of 2019, the service is available in 24 countries and in more than 10,000 cities. For such a company Reviews are the most important criteria to analyse their own companies performance. So we are going to analyse this dataset using EDA- Exploratory Data Analysis and its helping components. We will visualise this dataset using graphs and maps at the same time we will filter out all the reviews using their rating values and find the reasons behind the high rating as well as its low ratings. Which will help the company to understand what to change so that their reviews will increase and be more positive. So lets jump into analysis now......"
   ]
  },
  {
   "cell_type": "code",
   "execution_count": null,
   "id": "246b5d92",
   "metadata": {},
   "outputs": [],
   "source": []
  },
  {
   "cell_type": "markdown",
   "id": "f59af6d0",
   "metadata": {},
   "source": [
    "Let's import all the needed libraries into our notebook"
   ]
  },
  {
   "cell_type": "code",
   "execution_count": 186,
   "id": "3bddf8e5",
   "metadata": {},
   "outputs": [],
   "source": [
    "import pandas as pd\n",
    "import numpy as np\n",
    "import matplotlib.pyplot as plt\n",
    "import seaborn as sns\n",
    "%matplotlib inline"
   ]
  },
  {
   "cell_type": "markdown",
   "id": "59d2f95d",
   "metadata": {},
   "source": [
    "Now we will read our csv file"
   ]
  },
  {
   "cell_type": "code",
   "execution_count": 190,
   "id": "c6f1cb64",
   "metadata": {},
   "outputs": [
    {
     "data": {
      "text/html": [
       "<div>\n",
       "<style scoped>\n",
       "    .dataframe tbody tr th:only-of-type {\n",
       "        vertical-align: middle;\n",
       "    }\n",
       "\n",
       "    .dataframe tbody tr th {\n",
       "        vertical-align: top;\n",
       "    }\n",
       "\n",
       "    .dataframe thead th {\n",
       "        text-align: right;\n",
       "    }\n",
       "</style>\n",
       "<table border=\"1\" class=\"dataframe\">\n",
       "  <thead>\n",
       "    <tr style=\"text-align: right;\">\n",
       "      <th></th>\n",
       "      <th>Restaurant</th>\n",
       "      <th>Reviewer</th>\n",
       "      <th>Review</th>\n",
       "      <th>Rating</th>\n",
       "      <th>Metadata</th>\n",
       "      <th>Time</th>\n",
       "      <th>Pictures</th>\n",
       "    </tr>\n",
       "  </thead>\n",
       "  <tbody>\n",
       "    <tr>\n",
       "      <th>0</th>\n",
       "      <td>Beyond Flavours</td>\n",
       "      <td>Rusha Chakraborty</td>\n",
       "      <td>The ambience was good, food was quite good . h...</td>\n",
       "      <td>5</td>\n",
       "      <td>1 Review , 2 Followers</td>\n",
       "      <td>5/25/2019 15:54</td>\n",
       "      <td>0</td>\n",
       "    </tr>\n",
       "    <tr>\n",
       "      <th>1</th>\n",
       "      <td>Beyond Flavours</td>\n",
       "      <td>Anusha Tirumalaneedi</td>\n",
       "      <td>Ambience is too good for a pleasant evening. S...</td>\n",
       "      <td>5</td>\n",
       "      <td>3 Reviews , 2 Followers</td>\n",
       "      <td>5/25/2019 14:20</td>\n",
       "      <td>0</td>\n",
       "    </tr>\n",
       "    <tr>\n",
       "      <th>2</th>\n",
       "      <td>Beyond Flavours</td>\n",
       "      <td>Ashok Shekhawat</td>\n",
       "      <td>A must try.. great food great ambience. Thnx f...</td>\n",
       "      <td>5</td>\n",
       "      <td>2 Reviews , 3 Followers</td>\n",
       "      <td>5/24/2019 22:54</td>\n",
       "      <td>0</td>\n",
       "    </tr>\n",
       "    <tr>\n",
       "      <th>3</th>\n",
       "      <td>Beyond Flavours</td>\n",
       "      <td>Swapnil Sarkar</td>\n",
       "      <td>Soumen das and Arun was a great guy. Only beca...</td>\n",
       "      <td>5</td>\n",
       "      <td>1 Review , 1 Follower</td>\n",
       "      <td>5/24/2019 22:11</td>\n",
       "      <td>0</td>\n",
       "    </tr>\n",
       "    <tr>\n",
       "      <th>4</th>\n",
       "      <td>Beyond Flavours</td>\n",
       "      <td>Dileep</td>\n",
       "      <td>Food is good.we ordered Kodi drumsticks and ba...</td>\n",
       "      <td>5</td>\n",
       "      <td>3 Reviews , 2 Followers</td>\n",
       "      <td>5/24/2019 21:37</td>\n",
       "      <td>0</td>\n",
       "    </tr>\n",
       "    <tr>\n",
       "      <th>...</th>\n",
       "      <td>...</td>\n",
       "      <td>...</td>\n",
       "      <td>...</td>\n",
       "      <td>...</td>\n",
       "      <td>...</td>\n",
       "      <td>...</td>\n",
       "      <td>...</td>\n",
       "    </tr>\n",
       "    <tr>\n",
       "      <th>9995</th>\n",
       "      <td>Chinese Pavilion</td>\n",
       "      <td>Abhishek Mahajan</td>\n",
       "      <td>Madhumathi Mahajan Well to start with nice cou...</td>\n",
       "      <td>3</td>\n",
       "      <td>53 Reviews , 54 Followers</td>\n",
       "      <td>06-05-2016 00:08</td>\n",
       "      <td>0</td>\n",
       "    </tr>\n",
       "    <tr>\n",
       "      <th>9996</th>\n",
       "      <td>Chinese Pavilion</td>\n",
       "      <td>Sharad Agrawal</td>\n",
       "      <td>This place has never disappointed us.. The foo...</td>\n",
       "      <td>4.5</td>\n",
       "      <td>2 Reviews , 53 Followers</td>\n",
       "      <td>06-04-2016 22:01</td>\n",
       "      <td>0</td>\n",
       "    </tr>\n",
       "    <tr>\n",
       "      <th>9997</th>\n",
       "      <td>Chinese Pavilion</td>\n",
       "      <td>Ramandeep</td>\n",
       "      <td>Bad rating is mainly because of \"Chicken Bone ...</td>\n",
       "      <td>1.5</td>\n",
       "      <td>65 Reviews , 423 Followers</td>\n",
       "      <td>06-03-2016 10:37</td>\n",
       "      <td>3</td>\n",
       "    </tr>\n",
       "    <tr>\n",
       "      <th>9998</th>\n",
       "      <td>Chinese Pavilion</td>\n",
       "      <td>Nayana Shanbhag</td>\n",
       "      <td>I personally love and prefer Chinese Food. Had...</td>\n",
       "      <td>4</td>\n",
       "      <td>13 Reviews , 144 Followers</td>\n",
       "      <td>5/31/2016 17:22</td>\n",
       "      <td>0</td>\n",
       "    </tr>\n",
       "    <tr>\n",
       "      <th>9999</th>\n",
       "      <td>Chinese Pavilion</td>\n",
       "      <td>Bhargava Krishna</td>\n",
       "      <td>Checked in here to try some delicious chinese ...</td>\n",
       "      <td>3.5</td>\n",
       "      <td>472 Reviews , 1302 Followers</td>\n",
       "      <td>5/31/2016 16:41</td>\n",
       "      <td>6</td>\n",
       "    </tr>\n",
       "  </tbody>\n",
       "</table>\n",
       "<p>10000 rows × 7 columns</p>\n",
       "</div>"
      ],
      "text/plain": [
       "            Restaurant              Reviewer  \\\n",
       "0      Beyond Flavours     Rusha Chakraborty   \n",
       "1      Beyond Flavours  Anusha Tirumalaneedi   \n",
       "2      Beyond Flavours       Ashok Shekhawat   \n",
       "3      Beyond Flavours        Swapnil Sarkar   \n",
       "4      Beyond Flavours                Dileep   \n",
       "...                ...                   ...   \n",
       "9995  Chinese Pavilion      Abhishek Mahajan   \n",
       "9996  Chinese Pavilion        Sharad Agrawal   \n",
       "9997  Chinese Pavilion             Ramandeep   \n",
       "9998  Chinese Pavilion       Nayana Shanbhag   \n",
       "9999  Chinese Pavilion      Bhargava Krishna   \n",
       "\n",
       "                                                 Review Rating  \\\n",
       "0     The ambience was good, food was quite good . h...      5   \n",
       "1     Ambience is too good for a pleasant evening. S...      5   \n",
       "2     A must try.. great food great ambience. Thnx f...      5   \n",
       "3     Soumen das and Arun was a great guy. Only beca...      5   \n",
       "4     Food is good.we ordered Kodi drumsticks and ba...      5   \n",
       "...                                                 ...    ...   \n",
       "9995  Madhumathi Mahajan Well to start with nice cou...      3   \n",
       "9996  This place has never disappointed us.. The foo...    4.5   \n",
       "9997  Bad rating is mainly because of \"Chicken Bone ...    1.5   \n",
       "9998  I personally love and prefer Chinese Food. Had...      4   \n",
       "9999  Checked in here to try some delicious chinese ...    3.5   \n",
       "\n",
       "                          Metadata              Time  Pictures  \n",
       "0           1 Review , 2 Followers   5/25/2019 15:54         0  \n",
       "1          3 Reviews , 2 Followers   5/25/2019 14:20         0  \n",
       "2          2 Reviews , 3 Followers   5/24/2019 22:54         0  \n",
       "3            1 Review , 1 Follower   5/24/2019 22:11         0  \n",
       "4          3 Reviews , 2 Followers   5/24/2019 21:37         0  \n",
       "...                            ...               ...       ...  \n",
       "9995     53 Reviews , 54 Followers  06-05-2016 00:08         0  \n",
       "9996      2 Reviews , 53 Followers  06-04-2016 22:01         0  \n",
       "9997    65 Reviews , 423 Followers  06-03-2016 10:37         3  \n",
       "9998    13 Reviews , 144 Followers   5/31/2016 17:22         0  \n",
       "9999  472 Reviews , 1302 Followers   5/31/2016 16:41         6  \n",
       "\n",
       "[10000 rows x 7 columns]"
      ]
     },
     "execution_count": 190,
     "metadata": {},
     "output_type": "execute_result"
    }
   ],
   "source": [
    "zr = pd.read_csv(\"Zomato Restaurant reviews.csv\")\n",
    "zr"
   ]
  },
  {
   "cell_type": "markdown",
   "id": "ce0326f8",
   "metadata": {},
   "source": [
    "As the dataset is very big lets just view first five rows using .head()"
   ]
  },
  {
   "cell_type": "code",
   "execution_count": 194,
   "id": "31c56a85",
   "metadata": {},
   "outputs": [
    {
     "data": {
      "text/html": [
       "<div>\n",
       "<style scoped>\n",
       "    .dataframe tbody tr th:only-of-type {\n",
       "        vertical-align: middle;\n",
       "    }\n",
       "\n",
       "    .dataframe tbody tr th {\n",
       "        vertical-align: top;\n",
       "    }\n",
       "\n",
       "    .dataframe thead th {\n",
       "        text-align: right;\n",
       "    }\n",
       "</style>\n",
       "<table border=\"1\" class=\"dataframe\">\n",
       "  <thead>\n",
       "    <tr style=\"text-align: right;\">\n",
       "      <th></th>\n",
       "      <th>Restaurant</th>\n",
       "      <th>Reviewer</th>\n",
       "      <th>Review</th>\n",
       "      <th>Rating</th>\n",
       "      <th>Metadata</th>\n",
       "      <th>Time</th>\n",
       "      <th>Pictures</th>\n",
       "    </tr>\n",
       "  </thead>\n",
       "  <tbody>\n",
       "    <tr>\n",
       "      <th>0</th>\n",
       "      <td>Beyond Flavours</td>\n",
       "      <td>Rusha Chakraborty</td>\n",
       "      <td>The ambience was good, food was quite good . h...</td>\n",
       "      <td>5</td>\n",
       "      <td>1 Review , 2 Followers</td>\n",
       "      <td>5/25/2019 15:54</td>\n",
       "      <td>0</td>\n",
       "    </tr>\n",
       "    <tr>\n",
       "      <th>1</th>\n",
       "      <td>Beyond Flavours</td>\n",
       "      <td>Anusha Tirumalaneedi</td>\n",
       "      <td>Ambience is too good for a pleasant evening. S...</td>\n",
       "      <td>5</td>\n",
       "      <td>3 Reviews , 2 Followers</td>\n",
       "      <td>5/25/2019 14:20</td>\n",
       "      <td>0</td>\n",
       "    </tr>\n",
       "    <tr>\n",
       "      <th>2</th>\n",
       "      <td>Beyond Flavours</td>\n",
       "      <td>Ashok Shekhawat</td>\n",
       "      <td>A must try.. great food great ambience. Thnx f...</td>\n",
       "      <td>5</td>\n",
       "      <td>2 Reviews , 3 Followers</td>\n",
       "      <td>5/24/2019 22:54</td>\n",
       "      <td>0</td>\n",
       "    </tr>\n",
       "    <tr>\n",
       "      <th>3</th>\n",
       "      <td>Beyond Flavours</td>\n",
       "      <td>Swapnil Sarkar</td>\n",
       "      <td>Soumen das and Arun was a great guy. Only beca...</td>\n",
       "      <td>5</td>\n",
       "      <td>1 Review , 1 Follower</td>\n",
       "      <td>5/24/2019 22:11</td>\n",
       "      <td>0</td>\n",
       "    </tr>\n",
       "    <tr>\n",
       "      <th>4</th>\n",
       "      <td>Beyond Flavours</td>\n",
       "      <td>Dileep</td>\n",
       "      <td>Food is good.we ordered Kodi drumsticks and ba...</td>\n",
       "      <td>5</td>\n",
       "      <td>3 Reviews , 2 Followers</td>\n",
       "      <td>5/24/2019 21:37</td>\n",
       "      <td>0</td>\n",
       "    </tr>\n",
       "  </tbody>\n",
       "</table>\n",
       "</div>"
      ],
      "text/plain": [
       "        Restaurant              Reviewer  \\\n",
       "0  Beyond Flavours     Rusha Chakraborty   \n",
       "1  Beyond Flavours  Anusha Tirumalaneedi   \n",
       "2  Beyond Flavours       Ashok Shekhawat   \n",
       "3  Beyond Flavours        Swapnil Sarkar   \n",
       "4  Beyond Flavours                Dileep   \n",
       "\n",
       "                                              Review Rating  \\\n",
       "0  The ambience was good, food was quite good . h...      5   \n",
       "1  Ambience is too good for a pleasant evening. S...      5   \n",
       "2  A must try.. great food great ambience. Thnx f...      5   \n",
       "3  Soumen das and Arun was a great guy. Only beca...      5   \n",
       "4  Food is good.we ordered Kodi drumsticks and ba...      5   \n",
       "\n",
       "                  Metadata             Time  Pictures  \n",
       "0   1 Review , 2 Followers  5/25/2019 15:54         0  \n",
       "1  3 Reviews , 2 Followers  5/25/2019 14:20         0  \n",
       "2  2 Reviews , 3 Followers  5/24/2019 22:54         0  \n",
       "3    1 Review , 1 Follower  5/24/2019 22:11         0  \n",
       "4  3 Reviews , 2 Followers  5/24/2019 21:37         0  "
      ]
     },
     "execution_count": 194,
     "metadata": {},
     "output_type": "execute_result"
    }
   ],
   "source": [
    "zr.head()"
   ]
  },
  {
   "cell_type": "markdown",
   "id": "c1ea0f7a",
   "metadata": {},
   "source": [
    "Let's also have a look at the last five rows of the dataset using .tail()"
   ]
  },
  {
   "cell_type": "code",
   "execution_count": null,
   "id": "2fe9f6c5",
   "metadata": {},
   "outputs": [],
   "source": [
    "zr.tail()"
   ]
  },
  {
   "cell_type": "markdown",
   "id": "d027bc64",
   "metadata": {},
   "source": [
    "We will now see completely how many (rows, columns) are there in our dataset"
   ]
  },
  {
   "cell_type": "code",
   "execution_count": null,
   "id": "5a152901",
   "metadata": {},
   "outputs": [],
   "source": [
    "zr.shape"
   ]
  },
  {
   "cell_type": "markdown",
   "id": "698a4c94",
   "metadata": {},
   "source": [
    "We have 10000 rows and 7 columns in our dataset."
   ]
  },
  {
   "cell_type": "markdown",
   "id": "014107ac",
   "metadata": {},
   "source": [
    "Let's see the information of our dataset"
   ]
  },
  {
   "cell_type": "code",
   "execution_count": null,
   "id": "0139ae13",
   "metadata": {},
   "outputs": [],
   "source": [
    "zr.info()"
   ]
  },
  {
   "cell_type": "markdown",
   "id": "f106df91",
   "metadata": {},
   "source": [
    "We can see that in 7 columns only pictures column is in integer type and all the others are object type"
   ]
  },
  {
   "cell_type": "markdown",
   "id": "9823e6b9",
   "metadata": {},
   "source": [
    "Converting Time into datatime - Since it is a string"
   ]
  },
  {
   "cell_type": "code",
   "execution_count": null,
   "id": "38a9f647",
   "metadata": {},
   "outputs": [],
   "source": [
    "zr['Time']=pd.to_datetime(zr['Time'])"
   ]
  },
  {
   "cell_type": "markdown",
   "id": "914189ac",
   "metadata": {},
   "source": [
    "Converting 'Rating' to numerical datatype (float)"
   ]
  },
  {
   "cell_type": "code",
   "execution_count": null,
   "id": "8018f098",
   "metadata": {},
   "outputs": [],
   "source": [
    "zr['Rating'] = zr['Rating'].str.replace('£', '').str.replace(',','')\n",
    "zr['Rating'] = pd.to_numeric(zr['Rating'])\n",
    "zr['Rating']"
   ]
  },
  {
   "cell_type": "markdown",
   "id": "dc17d117",
   "metadata": {},
   "source": [
    "We can see that we are getting an error because there is a catagarical data in between in the row 7601"
   ]
  },
  {
   "cell_type": "markdown",
   "id": "0262c7fd",
   "metadata": {},
   "source": [
    "Let's display row 7601 and see"
   ]
  },
  {
   "cell_type": "code",
   "execution_count": null,
   "id": "b66e309b",
   "metadata": {},
   "outputs": [],
   "source": [
    "display(zr.iloc[7601])"
   ]
  },
  {
   "cell_type": "markdown",
   "id": "aa116597",
   "metadata": {},
   "source": [
    "Yes there is a word LIKE in between our row"
   ]
  },
  {
   "cell_type": "markdown",
   "id": "7fb1b3b5",
   "metadata": {},
   "source": [
    "So let's change it to an empty data"
   ]
  },
  {
   "cell_type": "code",
   "execution_count": 162,
   "id": "b55d7639",
   "metadata": {},
   "outputs": [],
   "source": [
    "zr.at[7601,'Rating']=''"
   ]
  },
  {
   "cell_type": "markdown",
   "id": "8a832b0b",
   "metadata": {},
   "source": [
    "Now we changed like to an empty set. Let's display 7601 row again and see"
   ]
  },
  {
   "cell_type": "code",
   "execution_count": 163,
   "id": "87fddf38",
   "metadata": {},
   "outputs": [
    {
     "data": {
      "text/plain": [
       "Restaurant                        The Old Madras Baking Company\n",
       "Reviewer                                      Dhanasekar Kannan\n",
       "Review        One of the best pizzas to try. It served with ...\n",
       "Rating                                                         \n",
       "Metadata                              12 Reviews , 21 Followers\n",
       "Time                                        2019-05-18 12:31:00\n",
       "Pictures                                                      1\n",
       "Name: 7601, dtype: object"
      ]
     },
     "metadata": {},
     "output_type": "display_data"
    }
   ],
   "source": [
    "display(zr.iloc[7601])"
   ]
  },
  {
   "cell_type": "markdown",
   "id": "0c2889f5",
   "metadata": {},
   "source": [
    "It's successfully changed."
   ]
  },
  {
   "cell_type": "markdown",
   "id": "4abaab28",
   "metadata": {},
   "source": [
    "Now let's fill empty cells with NAN value"
   ]
  },
  {
   "cell_type": "code",
   "execution_count": 164,
   "id": "a3689b04",
   "metadata": {},
   "outputs": [
    {
     "data": {
      "text/html": [
       "<div>\n",
       "<style scoped>\n",
       "    .dataframe tbody tr th:only-of-type {\n",
       "        vertical-align: middle;\n",
       "    }\n",
       "\n",
       "    .dataframe tbody tr th {\n",
       "        vertical-align: top;\n",
       "    }\n",
       "\n",
       "    .dataframe thead th {\n",
       "        text-align: right;\n",
       "    }\n",
       "</style>\n",
       "<table border=\"1\" class=\"dataframe\">\n",
       "  <thead>\n",
       "    <tr style=\"text-align: right;\">\n",
       "      <th></th>\n",
       "      <th>Restaurant</th>\n",
       "      <th>Reviewer</th>\n",
       "      <th>Review</th>\n",
       "      <th>Rating</th>\n",
       "      <th>Metadata</th>\n",
       "      <th>Time</th>\n",
       "      <th>Pictures</th>\n",
       "    </tr>\n",
       "  </thead>\n",
       "  <tbody>\n",
       "    <tr>\n",
       "      <th>0</th>\n",
       "      <td>Beyond Flavours</td>\n",
       "      <td>Rusha Chakraborty</td>\n",
       "      <td>The ambience was good, food was quite good . h...</td>\n",
       "      <td>5</td>\n",
       "      <td>1 Review , 2 Followers</td>\n",
       "      <td>2019-05-25 15:54:00</td>\n",
       "      <td>0</td>\n",
       "    </tr>\n",
       "    <tr>\n",
       "      <th>1</th>\n",
       "      <td>Beyond Flavours</td>\n",
       "      <td>Anusha Tirumalaneedi</td>\n",
       "      <td>Ambience is too good for a pleasant evening. S...</td>\n",
       "      <td>5</td>\n",
       "      <td>3 Reviews , 2 Followers</td>\n",
       "      <td>2019-05-25 14:20:00</td>\n",
       "      <td>0</td>\n",
       "    </tr>\n",
       "    <tr>\n",
       "      <th>2</th>\n",
       "      <td>Beyond Flavours</td>\n",
       "      <td>Ashok Shekhawat</td>\n",
       "      <td>A must try.. great food great ambience. Thnx f...</td>\n",
       "      <td>5</td>\n",
       "      <td>2 Reviews , 3 Followers</td>\n",
       "      <td>2019-05-24 22:54:00</td>\n",
       "      <td>0</td>\n",
       "    </tr>\n",
       "    <tr>\n",
       "      <th>3</th>\n",
       "      <td>Beyond Flavours</td>\n",
       "      <td>Swapnil Sarkar</td>\n",
       "      <td>Soumen das and Arun was a great guy. Only beca...</td>\n",
       "      <td>5</td>\n",
       "      <td>1 Review , 1 Follower</td>\n",
       "      <td>2019-05-24 22:11:00</td>\n",
       "      <td>0</td>\n",
       "    </tr>\n",
       "    <tr>\n",
       "      <th>4</th>\n",
       "      <td>Beyond Flavours</td>\n",
       "      <td>Dileep</td>\n",
       "      <td>Food is good.we ordered Kodi drumsticks and ba...</td>\n",
       "      <td>5</td>\n",
       "      <td>3 Reviews , 2 Followers</td>\n",
       "      <td>2019-05-24 21:37:00</td>\n",
       "      <td>0</td>\n",
       "    </tr>\n",
       "    <tr>\n",
       "      <th>...</th>\n",
       "      <td>...</td>\n",
       "      <td>...</td>\n",
       "      <td>...</td>\n",
       "      <td>...</td>\n",
       "      <td>...</td>\n",
       "      <td>...</td>\n",
       "      <td>...</td>\n",
       "    </tr>\n",
       "    <tr>\n",
       "      <th>9995</th>\n",
       "      <td>Chinese Pavilion</td>\n",
       "      <td>Abhishek Mahajan</td>\n",
       "      <td>Madhumathi Mahajan Well to start with nice cou...</td>\n",
       "      <td>3</td>\n",
       "      <td>53 Reviews , 54 Followers</td>\n",
       "      <td>2016-06-05 00:08:00</td>\n",
       "      <td>0</td>\n",
       "    </tr>\n",
       "    <tr>\n",
       "      <th>9996</th>\n",
       "      <td>Chinese Pavilion</td>\n",
       "      <td>Sharad Agrawal</td>\n",
       "      <td>This place has never disappointed us.. The foo...</td>\n",
       "      <td>4.5</td>\n",
       "      <td>2 Reviews , 53 Followers</td>\n",
       "      <td>2016-06-04 22:01:00</td>\n",
       "      <td>0</td>\n",
       "    </tr>\n",
       "    <tr>\n",
       "      <th>9997</th>\n",
       "      <td>Chinese Pavilion</td>\n",
       "      <td>Ramandeep</td>\n",
       "      <td>Bad rating is mainly because of \"Chicken Bone ...</td>\n",
       "      <td>1.5</td>\n",
       "      <td>65 Reviews , 423 Followers</td>\n",
       "      <td>2016-06-03 10:37:00</td>\n",
       "      <td>3</td>\n",
       "    </tr>\n",
       "    <tr>\n",
       "      <th>9998</th>\n",
       "      <td>Chinese Pavilion</td>\n",
       "      <td>Nayana Shanbhag</td>\n",
       "      <td>I personally love and prefer Chinese Food. Had...</td>\n",
       "      <td>4</td>\n",
       "      <td>13 Reviews , 144 Followers</td>\n",
       "      <td>2016-05-31 17:22:00</td>\n",
       "      <td>0</td>\n",
       "    </tr>\n",
       "    <tr>\n",
       "      <th>9999</th>\n",
       "      <td>Chinese Pavilion</td>\n",
       "      <td>Bhargava Krishna</td>\n",
       "      <td>Checked in here to try some delicious chinese ...</td>\n",
       "      <td>3.5</td>\n",
       "      <td>472 Reviews , 1302 Followers</td>\n",
       "      <td>2016-05-31 16:41:00</td>\n",
       "      <td>6</td>\n",
       "    </tr>\n",
       "  </tbody>\n",
       "</table>\n",
       "<p>10000 rows × 7 columns</p>\n",
       "</div>"
      ],
      "text/plain": [
       "            Restaurant              Reviewer  \\\n",
       "0      Beyond Flavours     Rusha Chakraborty   \n",
       "1      Beyond Flavours  Anusha Tirumalaneedi   \n",
       "2      Beyond Flavours       Ashok Shekhawat   \n",
       "3      Beyond Flavours        Swapnil Sarkar   \n",
       "4      Beyond Flavours                Dileep   \n",
       "...                ...                   ...   \n",
       "9995  Chinese Pavilion      Abhishek Mahajan   \n",
       "9996  Chinese Pavilion        Sharad Agrawal   \n",
       "9997  Chinese Pavilion             Ramandeep   \n",
       "9998  Chinese Pavilion       Nayana Shanbhag   \n",
       "9999  Chinese Pavilion      Bhargava Krishna   \n",
       "\n",
       "                                                 Review Rating  \\\n",
       "0     The ambience was good, food was quite good . h...      5   \n",
       "1     Ambience is too good for a pleasant evening. S...      5   \n",
       "2     A must try.. great food great ambience. Thnx f...      5   \n",
       "3     Soumen das and Arun was a great guy. Only beca...      5   \n",
       "4     Food is good.we ordered Kodi drumsticks and ba...      5   \n",
       "...                                                 ...    ...   \n",
       "9995  Madhumathi Mahajan Well to start with nice cou...      3   \n",
       "9996  This place has never disappointed us.. The foo...    4.5   \n",
       "9997  Bad rating is mainly because of \"Chicken Bone ...    1.5   \n",
       "9998  I personally love and prefer Chinese Food. Had...      4   \n",
       "9999  Checked in here to try some delicious chinese ...    3.5   \n",
       "\n",
       "                          Metadata                Time  Pictures  \n",
       "0           1 Review , 2 Followers 2019-05-25 15:54:00         0  \n",
       "1          3 Reviews , 2 Followers 2019-05-25 14:20:00         0  \n",
       "2          2 Reviews , 3 Followers 2019-05-24 22:54:00         0  \n",
       "3            1 Review , 1 Follower 2019-05-24 22:11:00         0  \n",
       "4          3 Reviews , 2 Followers 2019-05-24 21:37:00         0  \n",
       "...                            ...                 ...       ...  \n",
       "9995     53 Reviews , 54 Followers 2016-06-05 00:08:00         0  \n",
       "9996      2 Reviews , 53 Followers 2016-06-04 22:01:00         0  \n",
       "9997    65 Reviews , 423 Followers 2016-06-03 10:37:00         3  \n",
       "9998    13 Reviews , 144 Followers 2016-05-31 17:22:00         0  \n",
       "9999  472 Reviews , 1302 Followers 2016-05-31 16:41:00         6  \n",
       "\n",
       "[10000 rows x 7 columns]"
      ]
     },
     "execution_count": 164,
     "metadata": {},
     "output_type": "execute_result"
    }
   ],
   "source": [
    "zr=zr.mask(zr == '')\n",
    "zr"
   ]
  },
  {
   "cell_type": "code",
   "execution_count": 165,
   "id": "92d4a558",
   "metadata": {},
   "outputs": [
    {
     "data": {
      "text/plain": [
       "Restaurant                        The Old Madras Baking Company\n",
       "Reviewer                                      Dhanasekar Kannan\n",
       "Review        One of the best pizzas to try. It served with ...\n",
       "Rating                                                      NaN\n",
       "Metadata                              12 Reviews , 21 Followers\n",
       "Time                                        2019-05-18 12:31:00\n",
       "Pictures                                                      1\n",
       "Name: 7601, dtype: object"
      ]
     },
     "metadata": {},
     "output_type": "display_data"
    }
   ],
   "source": [
    "display(zr.iloc[7601])"
   ]
  },
  {
   "cell_type": "markdown",
   "id": "f0260fd0",
   "metadata": {},
   "source": [
    "Now let's Convert 'Rating' to numerical datatype (float)"
   ]
  },
  {
   "cell_type": "code",
   "execution_count": 166,
   "id": "fcec18d0",
   "metadata": {},
   "outputs": [],
   "source": [
    "zr['Rating'] = zr['Rating'].astype('float')"
   ]
  },
  {
   "cell_type": "code",
   "execution_count": 167,
   "id": "edbf0c79",
   "metadata": {},
   "outputs": [
    {
     "name": "stdout",
     "output_type": "stream",
     "text": [
      "<class 'pandas.core.frame.DataFrame'>\n",
      "RangeIndex: 10000 entries, 0 to 9999\n",
      "Data columns (total 7 columns):\n",
      " #   Column      Non-Null Count  Dtype         \n",
      "---  ------      --------------  -----         \n",
      " 0   Restaurant  10000 non-null  object        \n",
      " 1   Reviewer    9962 non-null   object        \n",
      " 2   Review      9955 non-null   object        \n",
      " 3   Rating      9961 non-null   float64       \n",
      " 4   Metadata    9962 non-null   object        \n",
      " 5   Time        9962 non-null   datetime64[ns]\n",
      " 6   Pictures    10000 non-null  int64         \n",
      "dtypes: datetime64[ns](1), float64(1), int64(1), object(4)\n",
      "memory usage: 547.0+ KB\n"
     ]
    }
   ],
   "source": [
    "zr.info()"
   ]
  },
  {
   "cell_type": "markdown",
   "id": "09595168",
   "metadata": {},
   "source": [
    "Now lets see the whole description of our pictures column which is in integer type"
   ]
  },
  {
   "cell_type": "code",
   "execution_count": 168,
   "id": "ff011961",
   "metadata": {},
   "outputs": [
    {
     "data": {
      "text/html": [
       "<div>\n",
       "<style scoped>\n",
       "    .dataframe tbody tr th:only-of-type {\n",
       "        vertical-align: middle;\n",
       "    }\n",
       "\n",
       "    .dataframe tbody tr th {\n",
       "        vertical-align: top;\n",
       "    }\n",
       "\n",
       "    .dataframe thead th {\n",
       "        text-align: right;\n",
       "    }\n",
       "</style>\n",
       "<table border=\"1\" class=\"dataframe\">\n",
       "  <thead>\n",
       "    <tr style=\"text-align: right;\">\n",
       "      <th></th>\n",
       "      <th>Rating</th>\n",
       "      <th>Pictures</th>\n",
       "    </tr>\n",
       "  </thead>\n",
       "  <tbody>\n",
       "    <tr>\n",
       "      <th>count</th>\n",
       "      <td>9961.000000</td>\n",
       "      <td>10000.000000</td>\n",
       "    </tr>\n",
       "    <tr>\n",
       "      <th>mean</th>\n",
       "      <td>3.601044</td>\n",
       "      <td>0.748600</td>\n",
       "    </tr>\n",
       "    <tr>\n",
       "      <th>std</th>\n",
       "      <td>1.483461</td>\n",
       "      <td>2.570381</td>\n",
       "    </tr>\n",
       "    <tr>\n",
       "      <th>min</th>\n",
       "      <td>1.000000</td>\n",
       "      <td>0.000000</td>\n",
       "    </tr>\n",
       "    <tr>\n",
       "      <th>25%</th>\n",
       "      <td>3.000000</td>\n",
       "      <td>0.000000</td>\n",
       "    </tr>\n",
       "    <tr>\n",
       "      <th>50%</th>\n",
       "      <td>4.000000</td>\n",
       "      <td>0.000000</td>\n",
       "    </tr>\n",
       "    <tr>\n",
       "      <th>75%</th>\n",
       "      <td>5.000000</td>\n",
       "      <td>0.000000</td>\n",
       "    </tr>\n",
       "    <tr>\n",
       "      <th>max</th>\n",
       "      <td>5.000000</td>\n",
       "      <td>64.000000</td>\n",
       "    </tr>\n",
       "  </tbody>\n",
       "</table>\n",
       "</div>"
      ],
      "text/plain": [
       "            Rating      Pictures\n",
       "count  9961.000000  10000.000000\n",
       "mean      3.601044      0.748600\n",
       "std       1.483461      2.570381\n",
       "min       1.000000      0.000000\n",
       "25%       3.000000      0.000000\n",
       "50%       4.000000      0.000000\n",
       "75%       5.000000      0.000000\n",
       "max       5.000000     64.000000"
      ]
     },
     "execution_count": 168,
     "metadata": {},
     "output_type": "execute_result"
    }
   ],
   "source": [
    "zr.describe()"
   ]
  },
  {
   "cell_type": "markdown",
   "id": "1d0023b4",
   "metadata": {},
   "source": [
    "Let's see completely how many different/unique Restaurants are there in our dataset"
   ]
  },
  {
   "cell_type": "code",
   "execution_count": 169,
   "id": "b62e24b4",
   "metadata": {},
   "outputs": [
    {
     "data": {
      "text/plain": [
       "array(['Beyond Flavours', 'Paradise', 'Flechazo',\n",
       "       'Shah Ghouse Hotel & Restaurant', 'Over The Moon Brew Company',\n",
       "       \"The Fisherman's Wharf\", 'eat.fit', 'Shah Ghouse Spl Shawarma',\n",
       "       'Hyper Local', 'Cream Stone', \"Sardarji's Chaats & More\",\n",
       "       'Barbeque Nation', 'Absolute Sizzlers',\n",
       "       'The Lal Street - Bar Exchange', \"AB's - Absolute Barbecues\",\n",
       "       'KFC', 'NorFest - The Dhaba', 'Hotel Zara Hi-Fi',\n",
       "       '10 Downing Street', 'Pakwaan Grand', '13 Dhaba',\n",
       "       \"Jonathan's Kitchen - Holiday Inn Express & Suites\", 'B-Dubs',\n",
       "       'Amul', 'SKYHY', 'Tiki Shack', 'Mustang Terrace Lounge',\n",
       "       \"3B's - Buddies, Bar & Barbecue\", 'Behrouz Biryani',\n",
       "       'Hunger Maggi Point', 'Pot Pourri', 'Pista House',\n",
       "       'Marsala Food Company', 'Club Rogue',\n",
       "       'Mazzo - Marriott Executive Apartments',\n",
       "       'Green Bawarchi Restaurant', 'Banana Leaf Multicuisine Restaurant',\n",
       "       'Kritunga Restaurant', 'The Glass Onion', 'Deli 9 Bistro',\n",
       "       'Frio Bistro', 'Karachi Bakery', 'Karachi Cafe',\n",
       "       'The Foodie Monster Kitchen', 'La La Land - Bar & Kitchen',\n",
       "       'Owm Nom Nom', 'Ulavacharu', 'Shanghai Chef 2', \"Udipi's Upahar\",\n",
       "       'Mathura Vilas', 'Gal Punjab Di', 'Hitech Bawarchi Food Zone',\n",
       "       'Biryanis And More', 'Diners Pavilion', 'Asian Meal Box',\n",
       "       'Cafe Eclat', 'Feast - Sheraton Hyderabad Hotel', 'Being Hungry',\n",
       "       'Tempteys', 'KS Bakers', 'PourHouse7', 'Prism Club & Kitchen',\n",
       "       'Shree Santosh Dhaba Family Restaurant', 'Dine O China',\n",
       "       'Hyderabad Chefs', 'Komatose - Holiday Inn Express & Suites',\n",
       "       'Aromas@11SIX', 'Yum Yum Tree - The Arabian Food Court',\n",
       "       'The Tilt Bar Republic', 'The Indi Grill',\n",
       "       'Urban Asia - Kitchen & Bar', 'Eat India Company', 'Labonel',\n",
       "       'Driven Cafe', 'Faasos', 'Royal Spicy Restaurant',\n",
       "       'The Old Madras Baking Company', 'Squeeze @ The Lime',\n",
       "       'Khaan Saab', 'Olive Garden', 'Tandoori Food Works', 'Delhi-39',\n",
       "       'Al Saba Restaurant', \"GD's\", 'T Grill', 'Momos Delight',\n",
       "       'The Chocolate Room', 'American Wild Wings', \"Domino's Pizza\",\n",
       "       'Mohammedia Shawarma', 'Arena Eleven',\n",
       "       'Cascade - Radisson Hyderabad Hitec City',\n",
       "       'Collage - Hyatt Hyderabad Gachibowli', \"Zing's Northeast Kitchen\",\n",
       "       \"Dunkin' Donuts\", 'Desi Bytes', 'Hyderabadi Daawat',\n",
       "       'Zega - Sheraton Hyderabad Hotel', 'Triptify', 'Chinese Pavilion'],\n",
       "      dtype=object)"
      ]
     },
     "execution_count": 169,
     "metadata": {},
     "output_type": "execute_result"
    }
   ],
   "source": [
    "zr['Restaurant'].unique()"
   ]
  },
  {
   "cell_type": "markdown",
   "id": "699fbb6a",
   "metadata": {},
   "source": [
    "Now let's see the count of the unique restaurants of our dataset"
   ]
  },
  {
   "cell_type": "code",
   "execution_count": 170,
   "id": "4a2f00c0",
   "metadata": {},
   "outputs": [
    {
     "data": {
      "text/plain": [
       "100"
      ]
     },
     "execution_count": 170,
     "metadata": {},
     "output_type": "execute_result"
    }
   ],
   "source": [
    "n= len(zr['Restaurant'].unique())\n",
    "n"
   ]
  },
  {
   "cell_type": "markdown",
   "id": "b4dbb2e2",
   "metadata": {},
   "source": [
    "There are 100 different restaurants in our dataset"
   ]
  },
  {
   "cell_type": "markdown",
   "id": "ead858b4",
   "metadata": {},
   "source": [
    "Let's check for Null values"
   ]
  },
  {
   "cell_type": "code",
   "execution_count": 171,
   "id": "557a3776",
   "metadata": {},
   "outputs": [
    {
     "data": {
      "text/plain": [
       "Restaurant     0\n",
       "Reviewer      38\n",
       "Review        45\n",
       "Rating        39\n",
       "Metadata      38\n",
       "Time          38\n",
       "Pictures       0\n",
       "dtype: int64"
      ]
     },
     "execution_count": 171,
     "metadata": {},
     "output_type": "execute_result"
    }
   ],
   "source": [
    "zr.isnull().sum()"
   ]
  },
  {
   "cell_type": "markdown",
   "id": "9cd5ce91",
   "metadata": {},
   "source": [
    "Checking for null columns"
   ]
  },
  {
   "cell_type": "code",
   "execution_count": 172,
   "id": "54275cea",
   "metadata": {},
   "outputs": [
    {
     "data": {
      "text/plain": [
       "['Reviewer', 'Review', 'Rating', 'Metadata', 'Time']"
      ]
     },
     "execution_count": 172,
     "metadata": {},
     "output_type": "execute_result"
    }
   ],
   "source": [
    "[features for features in zr.columns if zr[features].isnull().sum()>0]"
   ]
  },
  {
   "cell_type": "markdown",
   "id": "a483a62b",
   "metadata": {},
   "source": [
    "We have 5 columns containing nan vlues"
   ]
  },
  {
   "cell_type": "code",
   "execution_count": null,
   "id": "5b6409cc",
   "metadata": {},
   "outputs": [],
   "source": [
    "null_columns"
   ]
  },
  {
   "cell_type": "code",
   "execution_count": 173,
   "id": "e626d593",
   "metadata": {},
   "outputs": [
    {
     "data": {
      "text/plain": [
       "<AxesSubplot:>"
      ]
     },
     "execution_count": 173,
     "metadata": {},
     "output_type": "execute_result"
    },
    {
     "data": {
      "image/png": "[encoded data removed]",
      "text/plain": [
       "<Figure size 864x432 with 1 Axes>"
      ]
     },
     "metadata": {
      "needs_background": "light"
     },
     "output_type": "display_data"
    }
   ],
   "source": [
    "plt.figure(figsize=(12,6))\n",
    "sns.heatmap(zr.isnull(), cbar=False,yticklabels=False,cmap=\"YlGnBu\")"
   ]
  },
  {
   "cell_type": "markdown",
   "id": "a47513b7",
   "metadata": {},
   "source": [
    "Check for NaN under an entire DataFrame:"
   ]
  },
  {
   "cell_type": "code",
   "execution_count": 176,
   "id": "79d5b3c7",
   "metadata": {},
   "outputs": [
    {
     "data": {
      "text/plain": [
       "True"
      ]
     },
     "execution_count": 176,
     "metadata": {},
     "output_type": "execute_result"
    }
   ],
   "source": [
    "zr.isnull().values.any()"
   ]
  },
  {
   "cell_type": "markdown",
   "id": "925a629e",
   "metadata": {},
   "source": [
    "Count the NaN under an entire DataFrame:"
   ]
  },
  {
   "cell_type": "code",
   "execution_count": 177,
   "id": "859b585b",
   "metadata": {},
   "outputs": [
    {
     "data": {
      "text/plain": [
       "198"
      ]
     },
     "execution_count": 177,
     "metadata": {},
     "output_type": "execute_result"
    }
   ],
   "source": [
    "zr.isnull().sum().sum()"
   ]
  },
  {
   "cell_type": "markdown",
   "id": "ec2b7a76",
   "metadata": {},
   "source": [
    "There are completely 198 nan values"
   ]
  },
  {
   "cell_type": "markdown",
   "id": "15e2b02f",
   "metadata": {},
   "source": [
    "Plotting the distribution curve"
   ]
  },
  {
   "cell_type": "code",
   "execution_count": 178,
   "id": "e351d734",
   "metadata": {},
   "outputs": [
    {
     "data": {
      "text/plain": [
       "<seaborn.axisgrid.PairGrid at 0x1488c7f4790>"
      ]
     },
     "execution_count": 178,
     "metadata": {},
     "output_type": "execute_result"
    },
    {
     "data": {
      "image/png": "[encoded data removed]",
      "text/plain": [
       "<Figure size 360x360 with 6 Axes>"
      ]
     },
     "metadata": {
      "needs_background": "light"
     },
     "output_type": "display_data"
    }
   ],
   "source": [
    "sns.pairplot(zr)"
   ]
  },
  {
   "cell_type": "code",
   "execution_count": 179,
   "id": "1796fb10",
   "metadata": {},
   "outputs": [
    {
     "data": {
      "image/png": "[encoded data removed]",
      "text/plain": [
       "<Figure size 373.25x180 with 2 Axes>"
      ]
     },
     "metadata": {
      "needs_background": "light"
     },
     "output_type": "display_data"
    }
   ],
   "source": [
    "sns.pairplot(\n",
    "data=zr,\n",
    "aspect=1.85,\n",
    "hue='Rating');"
   ]
  },
  {
   "cell_type": "code",
   "execution_count": null,
   "id": "5d01d110",
   "metadata": {},
   "outputs": [],
   "source": [
    "sns.pairplot(\n",
    "data=zr,\n",
    "aspect=1.85,\n",
    "hue='Metadata');"
   ]
  },
  {
   "cell_type": "code",
   "execution_count": null,
   "id": "a2a19a23",
   "metadata": {},
   "outputs": [],
   "source": [
    "sns.pairplot(\n",
    "data=zr,\n",
    "aspect=1.85,\n",
    "hue='Reviewer');"
   ]
  },
  {
   "cell_type": "code",
   "execution_count": null,
   "id": "8023d1d7",
   "metadata": {},
   "outputs": [],
   "source": [
    "sns.pairplot(\n",
    "data=zr,\n",
    "aspect=1.85,\n",
    "hue='Restaurant');"
   ]
  },
  {
   "cell_type": "code",
   "execution_count": null,
   "id": "efd6b162",
   "metadata": {},
   "outputs": [],
   "source": [
    "sns.set(font_scale=1.15)\n",
    "plt.figure(figsize=(8,4))\n",
    "sns.heatmap(\n",
    "zr.corr(),\n",
    "cmap='RdBu_r',\n",
    "annot=True,\n",
    "vmin=-1, vmax=1);"
   ]
  },
  {
   "cell_type": "code",
   "execution_count": null,
   "id": "e3a86e7b",
   "metadata": {},
   "outputs": [],
   "source": []
  }
 ],
 "metadata": {
  "kernelspec": {
   "display_name": "Python 3 (ipykernel)",
   "language": "python",
   "name": "python3"
  },
  "language_info": {
   "codemirror_mode": {
    "name": "ipython",
    "version": 3
   },
   "file_extension": ".py",
   "mimetype": "text/x-python",
   "name": "python",
   "nbconvert_exporter": "python",
   "pygments_lexer": "ipython3",
   "version": "3.9.12"
  }
 },
 "nbformat": 4,
 "nbformat_minor": 5
}
